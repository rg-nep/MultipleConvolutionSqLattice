{
 "cells": [
  {
   "cell_type": "markdown",
   "metadata": {},
   "source": [
    "# Exponents due to multiple convolution"
   ]
  },
  {
   "cell_type": "markdown",
   "metadata": {},
   "source": [
    "## exponent $\\beta$\n",
    "\n",
    "\n",
    "| column    |     meaning |\n",
    "| --- | --- |\n",
    "| $1$       |     number of times convolution performed |\n",
    "| $2$       |     at which $x$ value height is measured |\n",
    "| $3$       |     exponent $\\beta$ |\n",
    "| $4$       |     std error |\n"
   ]
  },
  {
   "cell_type": "markdown",
   "metadata": {},
   "source": [
    "### fast convolution\n",
    "\n"
   ]
  },
  {
   "cell_type": "code",
   "execution_count": 14,
   "metadata": {},
   "outputs": [],
   "source": [
    "beta = []\n",
    "\n",
    "beta.append([1, 0.5, 0.13770117750850913, 0.0007452173365575101])\n",
    "beta.append([2, 0.2, 0.1328849622968082,  0.0014796066590383032])\n",
    "beta.append([5, 0.07, 0.12691042350850296, 0.0017649894629729798])\n",
    "beta.append([10, 0.07, 0.12150731269045119, 0.0017133999245732526])"
   ]
  },
  {
   "cell_type": "code",
   "execution_count": 15,
   "metadata": {},
   "outputs": [
    {
     "data": {
      "text/plain": [
       "[[1, 0.5, 0.13770117750850913, 0.0007452173365575101],\n",
       " [2, 0.2, 0.1328849622968082, 0.0014796066590383032],\n",
       " [5, 0.07, 0.12691042350850296, 0.0017649894629729798],\n",
       " [10, 0.07, 0.12150731269045119, 0.0017133999245732526]]"
      ]
     },
     "execution_count": 15,
     "metadata": {},
     "output_type": "execute_result"
    }
   ],
   "source": [
    "beta"
   ]
  },
  {
   "cell_type": "markdown",
   "metadata": {},
   "source": [
    "### full convolution"
   ]
  },
  {
   "cell_type": "code",
   "execution_count": 16,
   "metadata": {},
   "outputs": [],
   "source": [
    "beta = []\n",
    "\n",
    "beta.append([1, 0.5, 0.1377011775085092, 0.0007452173365565566])\n",
    "beta.append([2, 0.2, 0.13288496229680816, 0.0014796066590384523])\n",
    "beta.append([5, 0.07,0.12691042350850293, 0.0017649894629729798])"
   ]
  },
  {
   "cell_type": "code",
   "execution_count": 17,
   "metadata": {},
   "outputs": [
    {
     "data": {
      "text/plain": [
       "[[1, 0.5, 0.1377011775085092, 0.0007452173365565566],\n",
       " [2, 0.2, 0.13288496229680816, 0.0014796066590384523],\n",
       " [5, 0.07, 0.12691042350850293, 0.0017649894629729798]]"
      ]
     },
     "execution_count": 17,
     "metadata": {},
     "output_type": "execute_result"
    }
   ],
   "source": [
    "beta"
   ]
  },
  {
   "cell_type": "code",
   "execution_count": null,
   "metadata": {},
   "outputs": [],
   "source": []
  },
  {
   "cell_type": "markdown",
   "metadata": {},
   "source": [
    "## Conclusion"
   ]
  },
  {
   "cell_type": "markdown",
   "metadata": {},
   "source": [
    "1. Multiple convolution changes the exponents and messes up data collapse\n",
    "\n",
    "2. Fast convolution seems to give exactly same result (upto 15 decimal places with threshold=1e-15) as full convolution. \n",
    "\n",
    "3. data behaves badly after ~10 times convolution. slight change in x variable gives different exponent. Meaning, the data fluctuates more and more after multiple convolution.\n",
    "\n",
    "4. in special case 2 (even 3) times convolution can be allowed but no more than that\n"
   ]
  },
  {
   "cell_type": "code",
   "execution_count": null,
   "metadata": {},
   "outputs": [],
   "source": []
  },
  {
   "cell_type": "code",
   "execution_count": null,
   "metadata": {},
   "outputs": [],
   "source": []
  }
 ],
 "metadata": {
  "kernelspec": {
   "display_name": "Python 3",
   "language": "python",
   "name": "python3"
  },
  "language_info": {
   "codemirror_mode": {
    "name": "ipython",
    "version": 3
   },
   "file_extension": ".py",
   "mimetype": "text/x-python",
   "name": "python",
   "nbconvert_exporter": "python",
   "pygments_lexer": "ipython3",
   "version": "3.6.8"
  }
 },
 "nbformat": 4,
 "nbformat_minor": 2
}
